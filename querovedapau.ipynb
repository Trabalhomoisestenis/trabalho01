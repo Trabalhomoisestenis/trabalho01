{
  "nbformat": 4,
  "nbformat_minor": 0,
  "metadata": {
    "colab": {
      "name": "Untitled1.ipynb",
      "provenance": [],
      "collapsed_sections": []
    },
    "kernelspec": {
      "name": "python3",
      "display_name": "Python 3"
    }
  },
  "cells": [
    {
      "cell_type": "code",
      "metadata": {
        "id": "0PbYANR_KPnt",
        "colab_type": "code",
        "outputId": "3e58e24e-b60c-4f82-b1f8-b66cd26bf7cf",
        "colab": {
          "base_uri": "https://localhost:8080/",
          "height": 357
        }
      },
      "source": [
        "!pip install psycopg2\n",
        "!pip install pandas \n",
        "!pip install Faker\n",
        "!pip install numpy\n",
        "!pip install mimesis"
      ],
      "execution_count": 0,
      "outputs": [
        {
          "output_type": "stream",
          "text": [
            "Requirement already satisfied: psycopg2 in /usr/local/lib/python3.6/dist-packages (2.7.6.1)\n",
            "Requirement already satisfied: pandas in /usr/local/lib/python3.6/dist-packages (0.25.2)\n",
            "Requirement already satisfied: pytz>=2017.2 in /usr/local/lib/python3.6/dist-packages (from pandas) (2018.9)\n",
            "Requirement already satisfied: python-dateutil>=2.6.1 in /usr/local/lib/python3.6/dist-packages (from pandas) (2.6.1)\n",
            "Requirement already satisfied: numpy>=1.13.3 in /usr/local/lib/python3.6/dist-packages (from pandas) (1.17.3)\n",
            "Requirement already satisfied: six>=1.5 in /usr/local/lib/python3.6/dist-packages (from python-dateutil>=2.6.1->pandas) (1.12.0)\n",
            "Collecting Faker\n",
            "\u001b[?25l  Downloading https://files.pythonhosted.org/packages/d4/ed/2fd5337ed405c4258dde1254e60f4e8ef9f1787576c0a2cd0d750b1716a6/Faker-2.0.3-py2.py3-none-any.whl (892kB)\n",
            "\u001b[K     |████████████████████████████████| 901kB 2.7MB/s \n",
            "\u001b[?25hRequirement already satisfied: six>=1.10 in /usr/local/lib/python3.6/dist-packages (from Faker) (1.12.0)\n",
            "Requirement already satisfied: python-dateutil>=2.4 in /usr/local/lib/python3.6/dist-packages (from Faker) (2.6.1)\n",
            "Requirement already satisfied: text-unidecode==1.3 in /usr/local/lib/python3.6/dist-packages (from Faker) (1.3)\n",
            "Installing collected packages: Faker\n",
            "Successfully installed Faker-2.0.3\n",
            "Requirement already satisfied: numpy in /usr/local/lib/python3.6/dist-packages (1.17.3)\n",
            "Collecting mimesis\n",
            "\u001b[?25l  Downloading https://files.pythonhosted.org/packages/c5/9e/98b8893f1610c9c151fae47030d36cd092f574c12ca324353f44512e7ad9/mimesis-3.3.0-py3-none-any.whl (2.3MB)\n",
            "\u001b[K     |████████████████████████████████| 2.3MB 2.8MB/s \n",
            "\u001b[?25hInstalling collected packages: mimesis\n",
            "Successfully installed mimesis-3.3.0\n"
          ],
          "name": "stdout"
        }
      ]
    },
    {
      "cell_type": "code",
      "metadata": {
        "id": "iRTfbrfkKvt7",
        "colab_type": "code",
        "colab": {}
      },
      "source": [
        "import psycopg2\n",
        "import pandas as pd\n",
        "from faker import Factory\n",
        "import numpy as np\n",
        "from mimesis import Generic\n",
        "from mimesis import Person\n",
        "from mimesis import Address\n",
        "import random\n"
      ],
      "execution_count": 0,
      "outputs": []
    },
    {
      "cell_type": "code",
      "metadata": {
        "id": "b_p4X6ZXLBwi",
        "colab_type": "code",
        "colab": {}
      },
      "source": [
        "conn = psycopg2.connect(host='salt.db.elephantsql.com',database='wodzidub',port=5432,user='wodzidub',password='O2In9M56wdniBusgLXxLoAtt0MF-Kakq')\n",
        "cur = conn.cursor()"
      ],
      "execution_count": 0,
      "outputs": []
    },
    {
      "cell_type": "code",
      "metadata": {
        "id": "AF7HfN1bUc9H",
        "colab_type": "code",
        "colab": {}
      },
      "source": [
        "conn.close()"
      ],
      "execution_count": 0,
      "outputs": []
    },
    {
      "cell_type": "code",
      "metadata": {
        "id": "DW95_4VkN5i8",
        "colab_type": "code",
        "colab": {}
      },
      "source": [
        "#usuario\n",
        "cur.execute(\"start transaction\")\n",
        "fakes = Factory.create('pt_BR')\n",
        "sexos = ['M','F']\n",
        "for i in range(80):\n",
        "  rg=fakes.ean(length=8)\n",
        "  nome = fakes.name()\n",
        "  data = fakes.date_of_birth(tzinfo=None, minimum_age=0, maximum_age=115)\n",
        "  sexo = sexos[random.randint(0,1)]\n",
        "  insert_instruction = \"\"\"insert into usuario values (%s,%s,%s,%s)\"\"\"\n",
        "  insert_values = (rg,nome,data,sexo)\n",
        "  cur.execute(insert_instruction, insert_values)\n",
        "cur.execute(\"commit\")\n",
        "\n"
      ],
      "execution_count": 0,
      "outputs": []
    },
    {
      "cell_type": "code",
      "metadata": {
        "id": "GQ_DBl3lNJTy",
        "colab_type": "code",
        "colab": {}
      },
      "source": [
        "#meta mensal\n",
        "cur.execute(\"select rg from usuario\")\n",
        "rgs = cur.fetchall()\n",
        "cur.execute(\"start transaction\")\n",
        "fakes = Factory.create('pt_BR')\n",
        "for i in range(100):\n",
        "  id = i+1\n",
        "  rg = (rgs[random.randint(0,len(rgs)-1)][0])\n",
        "  data = fakes.date_this_year(before_today=True, after_today=False)\n",
        "  calorias = random.randint(100,650)\n",
        "  insert_instruction = \"\"\"insert into meta_mensal_usuario values (%s,%s,%s,%s)\"\"\"\n",
        "  insert_values = (calorias,id,data,rg)\n",
        "  cur.execute(insert_instruction, insert_values)\n",
        "cur.execute(\"commit\")\n"
      ],
      "execution_count": 0,
      "outputs": []
    },
    {
      "cell_type": "code",
      "metadata": {
        "id": "CAMqGdjoRsOb",
        "colab_type": "code",
        "colab": {}
      },
      "source": [
        "#peso\n",
        "cur.execute(\"select rg from usuario\")\n",
        "rgs = cur.fetchall()\n",
        "cur.execute(\"start transaction\")\n",
        "fakes = Factory.create('pt_BR')\n",
        "for i in range(100):\n",
        "  id = i+1\n",
        "  rg = (rgs[random.randint(0,len(rgs)-1)][0])\n",
        "  data = fakes.date_this_year(before_today=True, after_today=False)\n",
        "  peso = round(random.uniform(40,110), 2)\n",
        "  insert_instruction = \"\"\"insert into Pesos_usuarios values (%s,%s,%s,%s)\"\"\"\n",
        "  insert_values = (peso,data,id,rg)\n",
        "  cur.execute(insert_instruction, insert_values)\n",
        "cur.execute(\"commit\")"
      ],
      "execution_count": 0,
      "outputs": []
    },
    {
      "cell_type": "code",
      "metadata": {
        "id": "i1FVc9msU0v9",
        "colab_type": "code",
        "colab": {}
      },
      "source": [
        "#altura\n",
        "cur.execute(\"select rg from usuario\")\n",
        "rgs = cur.fetchall()\n",
        "cur.execute(\"start transaction\")\n",
        "fakes = Factory.create('pt_BR')\n",
        "for i in range(100):\n",
        "  id = i+1\n",
        "  rg = (rgs[random.randint(0,len(rgs)-1)][0])\n",
        "  data = fakes.date_this_year(before_today=True, after_today=False)\n",
        "  altura = round(random.uniform(1.30,2.10), 2)\n",
        "  insert_instruction = \"\"\"insert into altura_usuarios values (%s,%s,%s,%s)\"\"\"\n",
        "  insert_values = (data,altura,id,rg)\n",
        "  cur.execute(insert_instruction, insert_values)\n",
        "cur.execute(\"commit\")"
      ],
      "execution_count": 0,
      "outputs": []
    },
    {
      "cell_type": "code",
      "metadata": {
        "id": "DECRZGzGViBI",
        "colab_type": "code",
        "colab": {}
      },
      "source": [
        "#sensor\n",
        "cur.execute(\"start transaction\")\n",
        "for i in range(100):\n",
        "  sensor = random.randint(10000,99999)\n",
        "  insert_instruction = \"\"\"insert into sensor values (%s)\"\"\"\n",
        "  insert_values = ([sensor])\n",
        "  cur.execute(insert_instruction, insert_values)\n",
        "cur.execute(\"commit\")\n",
        "  "
      ],
      "execution_count": 0,
      "outputs": []
    },
    {
      "cell_type": "code",
      "metadata": {
        "id": "35eWsYRCYT_M",
        "colab_type": "code",
        "colab": {}
      },
      "source": [
        "#municipio\n",
        "fakes = Factory.create('pt_BR')\n",
        "cur.execute(\"start transaction\")\n",
        "for i in range(100):\n",
        "  id = i+1\n",
        "  municipio = fakes.neighborhood()\n",
        "  insert_instruction = \"\"\"insert into Municipio values (%s,%s)\"\"\"\n",
        "  insert_values = (id,municipio)\n",
        "  cur.execute(insert_instruction, insert_values)\n",
        "cur.execute(\"commit\")"
      ],
      "execution_count": 0,
      "outputs": []
    },
    {
      "cell_type": "code",
      "metadata": {
        "id": "YVh3ukWAZp1-",
        "colab_type": "code",
        "colab": {}
      },
      "source": [
        "#bairro\n",
        "fakes = Factory.create('pt_BR')\n",
        "cur.execute(\"start transaction\")\n",
        "for i in range(100):\n",
        "  id = i+1\n",
        "  bairro = fakes.bairro()\n",
        "  insert_instruction = \"\"\"insert into Bairro values (%s,%s)\"\"\"\n",
        "  insert_values = (id,bairro)\n",
        "  cur.execute(insert_instruction, insert_values)\n",
        "cur.execute(\"commit\")"
      ],
      "execution_count": 0,
      "outputs": []
    },
    {
      "cell_type": "code",
      "metadata": {
        "id": "Zwb95PWsr_Du",
        "colab_type": "code",
        "colab": {}
      },
      "source": [
        "#tenis\n",
        "cur.execute(\"select codigo_espcialidade from especialidade_tenis\")\n",
        "esps = cur.fetchall()\n",
        "fakes = Factory.create('pt_BR')\n",
        "cur.execute(\"start transaction\")\n",
        "for i in range(100):\n",
        "  id = i+1\n",
        "  tenis = 'tenis' + str(id)\n",
        "  esp = (esps[random.randint(0,len(esps)-1)][0])\n",
        "  insert_instruction = \"\"\"insert into Tenis values (%s,%s,%s)\"\"\"\n",
        "  insert_values = (id,tenis,esp)\n",
        "  cur.execute(insert_instruction, insert_values)\n",
        "cur.execute(\"commit\")\n"
      ],
      "execution_count": 0,
      "outputs": []
    },
    {
      "cell_type": "code",
      "metadata": {
        "id": "6O-WePMDsWUE",
        "colab_type": "code",
        "colab": {}
      },
      "source": [
        "#tipo_exercicio\n",
        "fakes = Factory.create('pt_BR')\n",
        "cur.execute(\"start transaction\")\n",
        "for i in range(100):\n",
        "  id = i+1\n",
        "  nome = 'exercicio' + str(id)\n",
        "  calorias = random.randint(100,650)\n",
        "  insert_instruction = \"\"\"insert into tipo_de_exercicio values (%s,%s,%s)\"\"\"\n",
        "  insert_values = (nome,calorias,id)\n",
        "  cur.execute(insert_instruction, insert_values)\n",
        "cur.execute(\"commit\")"
      ],
      "execution_count": 0,
      "outputs": []
    },
    {
      "cell_type": "code",
      "metadata": {
        "id": "QJD-eluvww0K",
        "colab_type": "code",
        "colab": {}
      },
      "source": [
        "#estado\n",
        "fake = Factory.create('pt_BR')\n",
        "cur.execute(\"start transaction\")\n",
        "for i in range(20):\n",
        "  id = i+1\n",
        "  estado = fake.estado_nome()\n",
        "  insert_instruction = \"\"\"insert into Estado values (%s,%s)\"\"\"\n",
        "  insert_values = (id,estado)\n",
        "  cur.execute(insert_instruction, insert_values)\n",
        "cur.execute(\"commit\")"
      ],
      "execution_count": 0,
      "outputs": []
    },
    {
      "cell_type": "code",
      "metadata": {
        "id": "mfCnHSIBtM-L",
        "colab_type": "code",
        "colab": {}
      },
      "source": [
        "#especialidade\n",
        "fakes = Factory.create('pt_BR')\n",
        "cur.execute(\"start transaction\")\n",
        "for i in range(100):\n",
        "  id = i+1\n",
        "  nome = 'exercicio' + str(id)\n",
        "  insert_instruction = \"\"\"insert into especialidade_tenis values (%s,%s)\"\"\"\n",
        "  insert_values = (nome,id)\n",
        "  cur.execute(insert_instruction, insert_values)\n",
        "cur.execute(\"commit\")"
      ],
      "execution_count": 0,
      "outputs": []
    },
    {
      "cell_type": "code",
      "metadata": {
        "id": "LCkNaqHWxZoP",
        "colab_type": "code",
        "colab": {}
      },
      "source": [
        "#endereço\n",
        "cur.execute(\"select id from Bairro\")\n",
        "bairros = cur.fetchall()\n",
        "\n",
        "cur.execute(\"select id from Municipio\")\n",
        "munis = cur.fetchall()\n",
        "\n",
        "cur.execute(\"select id from Estado\")\n",
        "ests = cur.fetchall()\n",
        "\n",
        "cur.execute(\"select rg from Usuario\")\n",
        "rgs = cur.fetchall()\n",
        "\n",
        "fakes = Factory.create('pt_BR')\n",
        "cur.execute(\"start transaction\")\n",
        "for i in range(100):\n",
        "  id = fakes.ean(length=8)\n",
        "  bairro = (bairros[random.randint(0,len(bairros)-1)][0])\n",
        "  est = (ests[random.randint(0,len(ests)-1)][0])\n",
        "  muni = (munis[random.randint(0,len(munis)-1)][0])\n",
        "  rg = (rgs[random.randint(0,len(rgs)-1)][0])\n",
        "  insert_instruction = \"\"\"insert into Endereco values (%s,%s,%s,%s,%s)\"\"\"\n",
        "  insert_values = (id,rg,bairro,muni,est)\n",
        "  cur.execute(insert_instruction, insert_values)\n",
        "cur.execute(\"commit\")\n"
      ],
      "execution_count": 0,
      "outputs": []
    },
    {
      "cell_type": "code",
      "metadata": {
        "id": "Nqp4wMkSzwas",
        "colab_type": "code",
        "colab": {}
      },
      "source": [
        "#exercicio\n",
        "cur.execute(\"select codigo_sensor from sensor\")\n",
        "sensores = cur.fetchall()\n",
        "\n",
        "cur.execute(\"select Codigo_tenis from tenis\")\n",
        "teniss = cur.fetchall()\n",
        "\n",
        "cur.execute(\"select Codigo from tipo_de_exercicio\")\n",
        "exercicios = cur.fetchall()\n",
        "\n",
        "cur.execute(\"select rg from Usuario\")\n",
        "rgs = cur.fetchall()\n",
        "\n",
        "fakes = Factory.create('pt_BR')\n",
        "cur.execute(\"start transaction\")\n",
        "for i in range(100):\n",
        "  lat = fakes.latitude()\n",
        "  longi =fakes.longitude()\n",
        "  data = fakes.date_between(start_date=\"-4y\", end_date=\"today\")\n",
        "  tempo = fakes.time(pattern=\"%H:%M:%S\", end_datetime=None)\n",
        "  sensor = (sensores[random.randint(0,len(sensores)-1)][0])\n",
        "  tenis = (teniss[random.randint(0,len(teniss)-1)][0])\n",
        "  exercicio = (exercicios[random.randint(0,len(exercicios)-1)][0])\n",
        "  rg = (rgs[random.randint(0,len(rgs)-1)][0])\n",
        "  insert_instruction = \"\"\"insert into Exercicio values (%s,%s,%s,%s,%s,%s,%s,%s)\"\"\"\n",
        "  insert_values = (data,lat,longi,tempo,exercicio,rg,sensor,tenis)\n",
        "  cur.execute(insert_instruction, insert_values)\n",
        "cur.execute(\"commit\")\n"
      ],
      "execution_count": 0,
      "outputs": []
    }
  ]
}